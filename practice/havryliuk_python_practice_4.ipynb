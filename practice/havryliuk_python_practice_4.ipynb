{
  "nbformat": 4,
  "nbformat_minor": 0,
  "metadata": {
    "colab": {
      "provenance": []
    },
    "kernelspec": {
      "name": "python3",
      "display_name": "Python 3"
    },
    "language_info": {
      "name": "python"
    }
  },
  "cells": [
    {
      "cell_type": "markdown",
      "source": [
        "# I. Functions. Arguments."
      ],
      "metadata": {
        "id": "kXpppdVm6wFy"
      }
    },
    {
      "cell_type": "markdown",
      "source": [
        "1. (5б) Назвіть основні 4 смислові  частини, з яких складається функція."
      ],
      "metadata": {
        "id": "u_krJdlbAkVz"
      }
    },
    {
      "cell_type": "markdown",
      "source": [
        "\n",
        "У функції в Python можуть бути чотири основні смислові частини:\n",
        "\n",
        "1. Заголовок функції: Це перше визначення функції, яке включає ключове слово def, ім'я функції та, опціонально, параметри в дужках.\n",
        "2. Тіло функції: Це блок коду, який визначає функціональність функції. Все, що знаходиться відразу після заголовка функції та зазначеного інструкціями відступу, вважається тілом функції.\n",
        "3. Параметри функції: Це дані, які передаються функції при її виклику. Вони вказуються у дужках під час визначення функції. Наприклад, parameter1 та parameter2 у вищенаведеному прикладі.\n",
        "\n",
        "4. Оператор повернення: Це інструкція return, яка повертає значення з функції назовні. Вона дозволяє функції повернути результат своєї роботи. Функція може повертати одне або кілька значень, або навіть нічого. Вираз після return вказує на те, що буде повернено. Наприклад, return result у вищенаведеному прикладі."
      ],
      "metadata": {
        "id": "Lqsz_AG18f42"
      }
    },
    {
      "cell_type": "markdown",
      "source": [],
      "metadata": {
        "id": "H6PLGpgS7wrf"
      }
    },
    {
      "cell_type": "markdown",
      "source": [
        "2. (3б) Визначте функцію, що приймає 2 аргументи та повертає результат ділення 1го аргумента на інший."
      ],
      "metadata": {
        "id": "ORM4PqJQAtDM"
      }
    },
    {
      "cell_type": "code",
      "execution_count": null,
      "metadata": {
        "id": "EuDx-z8M6sLo",
        "colab": {
          "base_uri": "https://localhost:8080/"
        },
        "outputId": "2b30b397-d8af-4edb-e349-c7f6eea87feb"
      },
      "outputs": [
        {
          "output_type": "stream",
          "name": "stdout",
          "text": [
            "3.3333333333333335\n",
            "5.0\n"
          ]
        }
      ],
      "source": [
        "def division(a, b):\n",
        "    return a/b\n",
        "\n",
        "print(division(10, 3))\n",
        "print(division(10, 2))"
      ]
    },
    {
      "cell_type": "markdown",
      "source": [
        "3. (2б) Викличте вище визначену функцію, де другий аргумент дорівнює 0."
      ],
      "metadata": {
        "id": "5joQGQ-SAyMe"
      }
    },
    {
      "cell_type": "code",
      "source": [
        "print(division(10, 0))"
      ],
      "metadata": {
        "id": "V5cBV1LOA3d-",
        "colab": {
          "base_uri": "https://localhost:8080/"
        },
        "outputId": "e613d297-d583-495d-acb5-0f0b574c3518"
      },
      "execution_count": null,
      "outputs": [
        {
          "output_type": "stream",
          "name": "stdout",
          "text": [
            "Початок роботи функції division\n",
            "Закінчення роботи функції division\n",
            "None\n"
          ]
        }
      ]
    },
    {
      "cell_type": "markdown",
      "source": [
        "4. (4б) Перевизначте функцію так, щоби у випадку ділення на 0 функція повертала None, а в решті випадків - результат розрахунків."
      ],
      "metadata": {
        "id": "QyimWgW8A43-"
      }
    },
    {
      "cell_type": "code",
      "source": [
        "def division(a, b):\n",
        "  if b == 0:\n",
        "    return None\n",
        "  else:\n",
        "    return a/b\n",
        "\n",
        "print(division(10, 0))"
      ],
      "metadata": {
        "id": "7VIODtSjA8Ek",
        "colab": {
          "base_uri": "https://localhost:8080/"
        },
        "outputId": "bed02c0e-4f3b-41ab-f8f9-a89c0fcecd38"
      },
      "execution_count": 2,
      "outputs": [
        {
          "output_type": "stream",
          "name": "stdout",
          "text": [
            "None\n"
          ]
        }
      ]
    },
    {
      "cell_type": "markdown",
      "source": [
        "5. (5б) Визначте функцію, що віднімає одне число від іншого (підказка: це буде 2 аргументи функції). При чому, якщо не визначити, скільки саме має бути віднято від числа, за замовчуванням має відніматися 1. Викличте функцію, передаючи тільки один аргумент."
      ],
      "metadata": {
        "id": "Y8mN0GfkA81l"
      }
    },
    {
      "cell_type": "code",
      "source": [
        "def subtract(a, b = 1):\n",
        "  return a - b\n",
        "\n",
        "print(subtract(10))"
      ],
      "metadata": {
        "id": "vg1kxkdgBA50",
        "colab": {
          "base_uri": "https://localhost:8080/"
        },
        "outputId": "0a244842-4667-49fd-988a-26ae22ae1570"
      },
      "execution_count": 3,
      "outputs": [
        {
          "output_type": "stream",
          "name": "stdout",
          "text": [
            "9\n"
          ]
        }
      ]
    },
    {
      "cell_type": "markdown",
      "source": [
        "6. (7б) Визначте функцію, яка приймає iterable (ітерабельний обʼєкт, напр. список), що складається з 7ми рядкових значень - назв погодних умов (напр. \"sunny\") за кожен день у тижні. Повертає функція словник, де ключами є рядки з погодними умовами, а значеннями - кількість разів, скільки дана погода була протягом тижня (напр. {'sunny': 1, ...}). Викличте цю функцію та виведіть результат її роботи на екран."
      ],
      "metadata": {
        "id": "D3mwQGNOBBs4"
      }
    },
    {
      "cell_type": "code",
      "source": [
        "def count_weather(weekly_weather):\n",
        "    weather_count = {}\n",
        "    for condition in weekly_weather:\n",
        "        if condition in weather_count:\n",
        "            weather_count[condition] += 1\n",
        "        else:\n",
        "            weather_count[condition] = 1\n",
        "    return weather_count\n",
        "\n",
        "weekly_weather_conditions = [\"sunny\", \"rainy\", \"cloudy\", \"sunny\", \"sunny\", \"cloudy\", \"rainy\"]\n",
        "\n",
        "# Викликаємо функцію та виводимо результат\n",
        "result = count_weather(weekly_weather_conditions)\n",
        "print(result)"
      ],
      "metadata": {
        "id": "OsWm-hKcBFyn",
        "colab": {
          "base_uri": "https://localhost:8080/"
        },
        "outputId": "453d8b88-2bca-4941-b261-cff9d54b7531"
      },
      "execution_count": 4,
      "outputs": [
        {
          "output_type": "stream",
          "name": "stdout",
          "text": [
            "{'sunny': 3, 'rainy': 2, 'cloudy': 2}\n"
          ]
        }
      ]
    },
    {
      "cell_type": "markdown",
      "source": [
        "7. (15б) Напишіть програму, яка б шукала необхідне число у впорядкованому списку цілочислених значень, де\n",
        "число має вводитись з консолі.\n",
        "власне алгоритм пошуку винесений в окрему функцію, яка повертає булеве значення (знайдено число - True, не знайдено - False).\n",
        "в залежності від результату функції, виведіть на екран повідомлення про успішний або ж неуспішний пошук.\n",
        "Зауваження: використовувати оператор in заборонено."
      ],
      "metadata": {
        "id": "RMiCcdOsBKQT"
      }
    },
    {
      "cell_type": "code",
      "source": [
        "def binary_search(list, target):\n",
        "    left, right = 0, len(list) - 1\n",
        "\n",
        "    while left <= right:\n",
        "        mid = (left + right) // 2\n",
        "        if list[mid] == target:\n",
        "            return True\n",
        "        elif list[mid] < target:\n",
        "            left = mid + 1\n",
        "        else:\n",
        "            right = mid - 1\n",
        "    return False\n",
        "\n",
        "list_numbers = [2, 4, 6, 8, 10, 12, 14, 16, 18, 20]\n",
        "user_number = int(input(\"write your number \"))\n",
        "print(\"your number is in list!\" if binary_search(list_numbers, user_number) else \"your number is not in list!!\")\n"
      ],
      "metadata": {
        "id": "UNCZg65OBOy-",
        "colab": {
          "base_uri": "https://localhost:8080/"
        },
        "outputId": "25ff5882-49ae-4691-d6ee-8d00ef402eb0"
      },
      "execution_count": 5,
      "outputs": [
        {
          "output_type": "stream",
          "name": "stdout",
          "text": [
            "write your number 9\n",
            "your number is not in list!!\n"
          ]
        }
      ]
    },
    {
      "cell_type": "markdown",
      "source": [
        "# II. Lambda functions."
      ],
      "metadata": {
        "id": "Ae1n_OvLBTsy"
      }
    },
    {
      "cell_type": "markdown",
      "source": [],
      "metadata": {
        "id": "g9sNX706DDDT"
      }
    },
    {
      "cell_type": "markdown",
      "source": [
        "8. (4б) В яких випадках варто використовувати лямбда-функції?"
      ],
      "metadata": {
        "id": "xaD_wSlaCWen"
      }
    },
    {
      "cell_type": "markdown",
      "source": [
        "Лямбда-функції в Python корисно використовувати в таких випадках:\n",
        "\n",
        "1.Прості операції: Коли потрібно визначити коротку функцію для простої операції, наприклад, обчислення арифметичного виразу чи приведення значення до певного формату.\n",
        "2.Вирази-ключі сортування: При сортуванні списків, коли необхідно визначити критерій сортування. Лямбда-функції часто використовуються разом з функцією сортування.\n",
        "3.Фільтрація: При фільтрації списків за певним критерієм. Лямбда-функції можуть бути використані разом з функцією фільтрації.\n",
        "4.Callback-функції: При передачі функції як аргументу до іншої функції. Це часто використовується в асинхронному програмуванні або в обробниках подій.\n",
        "5.Операції над колекціями: При виконанні операцій над колекціями даних, таких як мапування, згортання, злиття, тощо.\n",
        "Також часто у випадках коли ми не плануємно звертатись до визначеної функції ще раз і нам необхідно скористатись нею лише одноразово."
      ],
      "metadata": {
        "id": "HqOiLEB9DFFz"
      }
    },
    {
      "cell_type": "markdown",
      "source": [
        "9. (9б) Визначте список з рядками. Після цього визначте анонімну функцію для отримання першого символу у верхньому регістрі для кожного рядка списку.\n",
        "Підказка: використовуйте анонімну функцію в якості агрумента до вбудованої ф-ції, яка створена для застосування функцій над iterable обʼєктами. Результат виведіть на екран у вигляді кортежу."
      ],
      "metadata": {
        "id": "USrzrk7GCedk"
      }
    },
    {
      "cell_type": "code",
      "source": [
        "strings = [\"messi\", \"ronaldo\", \"neymar\"]\n",
        "\n",
        "def map_first_letter(items):\n",
        "  return tuple(map(lambda str: str[0].upper(), items))\n",
        "\n",
        "print(map_first_letter(strings))"
      ],
      "metadata": {
        "id": "M8QWUsMlCjWH",
        "colab": {
          "base_uri": "https://localhost:8080/"
        },
        "outputId": "f1dc01a5-fd81-47e9-d0e5-4cb02af7ae00"
      },
      "execution_count": null,
      "outputs": [
        {
          "output_type": "stream",
          "name": "stdout",
          "text": [
            "('M', 'R', 'N')\n"
          ]
        }
      ]
    },
    {
      "cell_type": "markdown",
      "source": [
        "10. (10б) Визначте список з числовими значеннями (і цілими, і з рухомою комою). а) Відфільтруйте всі числа, які діляться націло на 3 за допомогою вбудованої функції та анонімної функції в якості аргумента). Збережіть результат у змінній, не приводяти явно до будь-якого типу. б) Використовуючи результат на кроці 12.а у якості аргументу, та за допомогою лямбда-функції в якості іншого аргументу до вбудованої функції, додайте до кожного елементу число 1 та опісля зведіть у квадрат. Остаточний результат приведіть явно до списку та виведіть на екран."
      ],
      "metadata": {
        "id": "9fyUhXOoCtGp"
      }
    },
    {
      "cell_type": "code",
      "source": [
        "numbers = [1, 2, 3, 4, 5, 6.1, 7, 8, 9, 10.2, 11, 12]\n",
        "filtered_numbers = filter(lambda x: x % 3 == 0, numbers)\n",
        "final_result = list(map(lambda x: (x + 1) ** 2, filtered_numbers))\n",
        "print(final_result)"
      ],
      "metadata": {
        "id": "exEx2_okCsql",
        "colab": {
          "base_uri": "https://localhost:8080/"
        },
        "outputId": "86e5a7c6-bbcf-4cc1-cc88-f4a0322365b1"
      },
      "execution_count": 1,
      "outputs": [
        {
          "output_type": "stream",
          "name": "stdout",
          "text": [
            "[16, 100, 169]\n"
          ]
        }
      ]
    },
    {
      "cell_type": "markdown",
      "source": [
        "# III. Decorators."
      ],
      "metadata": {
        "id": "o_x8cG_WC7jp"
      }
    },
    {
      "cell_type": "markdown",
      "source": [
        "11. (11б) Визначте декоратор, який би виводив у консоль повідомлення про початок роботи і назву функції (напр. my_function._ _ name _ _), а після відпрацювання функції - повідомлення про закінчення роботи і назву функції, що задекорована."
      ],
      "metadata": {
        "id": "mhxS4-mfC8LQ"
      }
    },
    {
      "cell_type": "code",
      "source": [
        "def decorator(func):\n",
        "    def wrapper(*args, **kwargs):\n",
        "        print(f\"Початок роботи функції {func.__name__}\")\n",
        "        result = func(*args, **kwargs)\n",
        "        print(f\"Закінчення роботи функції {func.__name__}\")\n",
        "        return result\n",
        "    return wrapper\n",
        "\n",
        "\n",
        "@decorator\n",
        "def my_function(x, y):\n",
        "    return x + y\n",
        "\n",
        "print(my_function(2, 3))"
      ],
      "metadata": {
        "id": "srd1ygWjDGhO",
        "colab": {
          "base_uri": "https://localhost:8080/"
        },
        "outputId": "f5811798-d22d-47fb-ef15-1ae1e8b3d863"
      },
      "execution_count": null,
      "outputs": [
        {
          "output_type": "stream",
          "name": "stdout",
          "text": [
            "Початок роботи функції my_function\n",
            "Закінчення роботи функції my_function\n",
            "5\n"
          ]
        }
      ]
    },
    {
      "cell_type": "markdown",
      "source": [
        "12. (4б) Задекоруйте двома різними способами функції з завдання 4 та 5 декоратором із завдання 11. (**УВАГА**: не декоруйте функції двічі!)."
      ],
      "metadata": {
        "id": "rxGZwVBiDph3"
      }
    },
    {
      "cell_type": "code",
      "source": [
        "def decorator(func):\n",
        "    def wrapper(*args, **kwargs):\n",
        "        print(f\"Початок роботи функції {func.__name__}\")\n",
        "        result = func(*args, **kwargs)\n",
        "        print(f\"Закінчення роботи функції {func.__name__}\")\n",
        "        return result\n",
        "    return wrapper\n",
        "\n",
        "\n",
        "@decorator\n",
        "def division(a, b):\n",
        "  if b == 0:\n",
        "    return None\n",
        "  else:\n",
        "    return a/b\n",
        "\n",
        "def subtract(a, b = 1):\n",
        "  return a - b\n",
        "\n",
        "subtract = decorator(subtract)"
      ],
      "metadata": {
        "id": "06lj7eq_DwZe"
      },
      "execution_count": null,
      "outputs": []
    },
    {
      "cell_type": "markdown",
      "source": [
        "13. (2б) Викличте одну з задекорованих функцій і виведіть її результат на екран."
      ],
      "metadata": {
        "id": "P0ep1urBDzf-"
      }
    },
    {
      "cell_type": "code",
      "source": [
        "print(division(10,2))"
      ],
      "metadata": {
        "id": "1QvTw0ctD0S3",
        "colab": {
          "base_uri": "https://localhost:8080/"
        },
        "outputId": "5b254982-d7cc-4e50-f847-cbcee2a9655c"
      },
      "execution_count": null,
      "outputs": [
        {
          "output_type": "stream",
          "name": "stdout",
          "text": [
            "Початок роботи функції division\n",
            "Закінчення роботи функції division\n",
            "5.0\n"
          ]
        }
      ]
    },
    {
      "cell_type": "markdown",
      "source": [
        "# IV. Recursion."
      ],
      "metadata": {
        "id": "poECCpuoD2S9"
      }
    },
    {
      "cell_type": "markdown",
      "source": [
        "14. (4б) Назвіть дві частини функції, які є обовʼязковими для того, щоб називати її рекурсивною."
      ],
      "metadata": {
        "id": "DqkURfdsD7MY"
      }
    },
    {
      "cell_type": "markdown",
      "source": [
        "Повинна бути база рекурсії, щоб функція могла зупинитись і рекурсивний виклик самої себе в тілі функції."
      ],
      "metadata": {
        "id": "HYW6ttIeIQIU"
      }
    },
    {
      "cell_type": "markdown",
      "source": [
        "15. (15б) Визначте функцію, яка рекурсивно реалізовує пошук числа у послідовності Фібоначчі за її індексом (нумерація починається з нуля). Наприклад, потрібно знайти перше число у послідовності, тоді функція прийматиме 0 у якості аргумента і повертатиме 1, якщо ж знаходити третє число (індекс 2) послідовності, то функція повертатиме 2, якщо ж знаходити десяте число (індекс 9), то функція повертатиме 55."
      ],
      "metadata": {
        "id": "WYVt20UmEA35"
      }
    },
    {
      "cell_type": "code",
      "source": [
        "def fibonacci(index):\n",
        "    if index <= 1:\n",
        "        return 1\n",
        "    else:\n",
        "        return fibonacci(index - 1) + fibonacci(index - 2)\n",
        "\n",
        "index = 9\n",
        "result = fibonacci(index)\n",
        "print(result)"
      ],
      "metadata": {
        "id": "xIMhp05AIpV_",
        "colab": {
          "base_uri": "https://localhost:8080/"
        },
        "outputId": "395c4868-14e9-40ea-c2d8-92754959e14c"
      },
      "execution_count": null,
      "outputs": [
        {
          "output_type": "stream",
          "name": "stdout",
          "text": [
            "55\n"
          ]
        }
      ]
    },
    {
      "cell_type": "markdown",
      "source": [
        "# Вітаю! Ви велика(ий) молодець, що впоралась(вся). Похваліть себе та побалуйте чимось приємним. Я Вами пишаюся."
      ],
      "metadata": {
        "id": "ytXC8n_4Ip0W"
      }
    }
  ]
}